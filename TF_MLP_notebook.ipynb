{
 "cells": [
  {
   "cell_type": "code",
   "execution_count": 1,
   "metadata": {},
   "outputs": [],
   "source": [
    "import tensorflow as tf\n",
    "import numpy as np\n",
    "import matplotlib.pyplot as plt\n",
    "\n",
    "def load(f):\n",
    "    F = open(f,\"r\")\n",
    "    out = []\n",
    "    label = []\n",
    "    for l in F:\n",
    "        temp = [int(t) for t in l.split(\",\")]\n",
    "        out.append(temp[1:])\n",
    "        label.append(temp[0])\n",
    "        \n",
    "    return np.array(out),np.array(label)\n",
    "\n",
    "train_data,train_label = load(\"./mnist_train.csv\")\n",
    "test_data,test_label = load(\"./mnist_test.csv\")"
   ]
  },
  {
   "cell_type": "code",
   "execution_count": 2,
   "metadata": {},
   "outputs": [
    {
     "data": {
      "image/png": "[encoded data removed]",
      "text/plain": [
       "<matplotlib.figure.Figure at 0x7f134fd246d8>"
      ]
     },
     "metadata": {},
     "output_type": "display_data"
    }
   ],
   "source": [
    "plt.matshow(np.reshape(test_data[0],[28,28]))\n",
    "plt.show()"
   ]
  },
  {
   "cell_type": "code",
   "execution_count": 3,
   "metadata": {},
   "outputs": [],
   "source": [
    "batch_size = 16\n",
    "data_size = len(train_data[0])\n",
    "n_epochs = 5000\n",
    "learning_rate = .001\n",
    "n_labels = 10"
   ]
  },
  {
   "cell_type": "code",
   "execution_count": 4,
   "metadata": {},
   "outputs": [],
   "source": [
    "m = np.mean(train_data)\n",
    "s = np.std(train_data)\n",
    "\n",
    "normed_data = (train_data - m)/s"
   ]
  },
  {
   "cell_type": "code",
   "execution_count": 5,
   "metadata": {},
   "outputs": [],
   "source": [
    "input_data = tf.placeholder(tf.float32,shape = (None,data_size))\n",
    "labels = tf.placeholder(tf.float32,shape = (None,10))"
   ]
  },
  {
   "cell_type": "code",
   "execution_count": 6,
   "metadata": {},
   "outputs": [],
   "source": [
    "layer1 = tf.layers.dense(input_data,256,activation = tf.nn.relu)\n",
    "layer2 = tf.layers.dense(layer1,256,activation = tf.nn.relu)\n",
    "layer3 = tf.layers.dense(layer2,256,activation = tf.nn.relu)\n",
    "\n",
    "logits = tf.layers.dense(layer2,n_labels,activation = None)"
   ]
  },
  {
   "cell_type": "code",
   "execution_count": 7,
   "metadata": {},
   "outputs": [],
   "source": [
    "loss = tf.reduce_mean(tf.nn.softmax_cross_entropy_with_logits_v2(labels = labels, logits = logits))\n",
    "adam = tf.train.AdamOptimizer(learning_rate = learning_rate)\n",
    "\n",
    "train = adam.minimize(loss)"
   ]
  },
  {
   "cell_type": "code",
   "execution_count": 8,
   "metadata": {},
   "outputs": [],
   "source": [
    "def make_1hot(l):\n",
    "    out = np.zeros(shape = (len(l),n_labels))\n",
    "    for k in range(len(l)):\n",
    "        out[k][l[k]] = 1\n",
    "        \n",
    "    return out\n",
    "\n",
    "def MNIST_err(l,p):\n",
    "    out = []\n",
    "    for k in range(len(l)):\n",
    "        if l[k][np.argmax(p[k])] == 1:\n",
    "            out.append(1)\n",
    "        else:\n",
    "            out.append(0)\n",
    "            \n",
    "    return np.mean(out)"
   ]
  },
  {
   "cell_type": "code",
   "execution_count": 9,
   "metadata": {},
   "outputs": [],
   "source": [
    "init = tf.global_variables_initializer()\n",
    "config = tf.ConfigProto(device_count = {'GPU': 0})\n",
    "sess = tf.Session(config=config)\n",
    "sess.run(init)"
   ]
  },
  {
   "cell_type": "code",
   "execution_count": 10,
   "metadata": {},
   "outputs": [
    {
     "name": "stdout",
     "output_type": "stream",
     "text": [
      "0\t2.456284523010254\t2.404623508453369\n",
      "500\t0.47951772809028625\t0.223442941904068\n",
      "1000\t0.020957253873348236\t0.19495441019535065\n",
      "1500\t0.029129914939403534\t0.24114638566970825\n",
      "2000\t0.2002839744091034\t0.189726784825325\n",
      "2500\t0.07177537679672241\t0.18938611447811127\n",
      "3000\t0.012079345993697643\t0.19243496656417847\n",
      "3500\t0.11272497475147247\t0.1949847936630249\n",
      "4000\t0.0008231680258177221\t0.20714963972568512\n",
      "4500\t0.0010586949065327644\t0.21931889653205872\n"
     ]
    }
   ],
   "source": [
    "results = []\n",
    "print_freq = 500\n",
    "test_freq = 10\n",
    "normed_test = (test_data - m)/s\n",
    "test_label_1h = make_1hot(test_label)\n",
    "\n",
    "for k in range(n_epochs):\n",
    "    b_index = np.random.choice(range(len(test_data)),batch_size,replace = False)\n",
    "    batch_data = normed_data[b_index]\n",
    "    batch_labels = make_1hot(train_label[b_index])\n",
    "    \n",
    "    _,train_loss,train_logits = sess.run([train,loss,logits],{input_data:batch_data,labels:batch_labels})\n",
    "    \n",
    "    if k%test_freq == 0:\n",
    "        test_loss,test_logits = sess.run([loss,logits],{input_data:normed_test,labels:test_label_1h})\n",
    "        results.append([k,MNIST_err(test_label_1h,test_logits),MNIST_err(batch_labels,train_logits)])\n",
    "    if k%print_freq == 0:\n",
    "        print(\"{}\\t{}\\t{}\".format(k,train_loss,test_loss))\n",
    "        \n",
    "results = np.array(results)"
   ]
  },
  {
   "cell_type": "code",
   "execution_count": 11,
   "metadata": {},
   "outputs": [
    {
     "data": {
      "image/png": "[encoded data removed]",
      "text/plain": [
       "<matplotlib.figure.Figure at 0x7f131f4a0a58>"
      ]
     },
     "metadata": {},
     "output_type": "display_data"
    }
   ],
   "source": [
    "plt.plot(results[:,0],1-results[:,2],label = \"Train\")\n",
    "plt.plot(results[:,0],1-results[:,1],label = \"Test\")\n",
    "plt.plot(results[:,0],np.ones_like(results[:,1])*.9,\"k--\",label = \"Chance\")\n",
    "plt.legend()\n",
    "plt.xlabel(\"Gradient Step\")\n",
    "plt.ylabel(\"Error (%)\")\n",
    "plt.xscale(\"log\")\n",
    "plt.show()"
   ]
  }
 ],
 "metadata": {
  "kernelspec": {
   "display_name": "Python 3",
   "language": "python",
   "name": "python3"
  },
  "language_info": {
   "codemirror_mode": {
    "name": "ipython",
    "version": 3
   },
   "file_extension": ".py",
   "mimetype": "text/x-python",
   "name": "python",
   "nbconvert_exporter": "python",
   "pygments_lexer": "ipython3",
   "version": "3.5.4"
  }
 },
 "nbformat": 4,
 "nbformat_minor": 2
}
