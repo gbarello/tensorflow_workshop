{
 "cells": [
  {
   "cell_type": "markdown",
   "metadata": {},
   "source": [
    "This notebook builds a simple SSN model and demonstrates the speedup in simulation acheiveable by the GPU vs. CPU"
   ]
  },
  {
   "cell_type": "code",
   "execution_count": 1,
   "metadata": {},
   "outputs": [],
   "source": [
    "import tensorflow as tf\n",
    "import numpy as np\n",
    "import matplotlib.pyplot as plt\n",
    "import time"
   ]
  },
  {
   "cell_type": "markdown",
   "metadata": {},
   "source": [
    "First we define all the SSN parameters"
   ]
  },
  {
   "cell_type": "code",
   "execution_count": 2,
   "metadata": {},
   "outputs": [],
   "source": [
    "k = .001#overall recurrent strength\n",
    "tau = .01#timescale\n",
    "dt = .001#time step size\n",
    "n = 2.2#nonlinearity power\n",
    "T = 1.#total time (in seconds)\n",
    "nt = int(T/dt)#number of time steps\n",
    "MAX_RATE = 1000#Maximum voltage (gets clipped above this)\n",
    "\n",
    "J = np.array([[1,-1],[1,-1]])#recurrent strengths [[ee,ei],[ie,ii]]\n",
    "S = np.array([[1.,.1],[2.,.1]])#recurrent lengths indices same as above"
   ]
  },
  {
   "cell_type": "markdown",
   "metadata": {},
   "source": [
    "This defines the weight matrix and network size"
   ]
  },
  {
   "cell_type": "code",
   "execution_count": 3,
   "metadata": {},
   "outputs": [
    {
     "name": "stdout",
     "output_type": "stream",
     "text": [
      "(2000, 2000)\n"
     ]
    },
    {
     "data": {
      "image/png": "[encoded data removed]",
      "text/plain": [
       "<matplotlib.figure.Figure at 0x7f4d4583a7b8>"
      ]
     },
     "metadata": {
      "needs_background": "light"
     },
     "output_type": "display_data"
    }
   ],
   "source": [
    "def expand(x,n):\n",
    "    '''\n",
    "    This is just a helper function to append singleton dimentions to tensors    \n",
    "    '''\n",
    "    if n == 0:\n",
    "        return x\n",
    "    else:\n",
    "        return expand(np.expand_dims(x,-1),n-1)\n",
    "    \n",
    "\n",
    "size = 8 #physical size of network (in the same units as S)\n",
    "N = 1000 #number of sites in the network (total number of neurons is twice this for e/i)\n",
    "pos = np.expand_dims(np.linspace(0,size,N),0) #calculate the position of each site\n",
    "dis = np.expand_dims(np.expand_dims(pos - pos.transpose(),0),0) #calculate the pairwise distance between sites\n",
    "\n",
    "W = expand(J,2)*np.exp(- (dis**2)/(2*expand(S,2)**2)) #this computes W using the distances, S, and J\n",
    "\n",
    "W = np.concatenate(W,axis = -2) #these lines are just rearranging W to be a matrix (before it had the e and i axes separated)\n",
    "W = np.concatenate(W,axis = -1)\n",
    "\n",
    "Wvar = np.float32(W)\n",
    "#Wvar = tf.Variable(W)\n",
    "\n",
    "print(W.shape)\n",
    "plt.matshow(W)\n",
    "plt.show()"
   ]
  },
  {
   "cell_type": "markdown",
   "metadata": {},
   "source": [
    "This cell defines the computation.\n",
    "\n",
    "the inputs are assumed constant. The initial state is set to zero (using a bit of a hack to get the right size of initial state)\n",
    "\n",
    "`ssnnon` is the ssn nonlinearity and `get_next_SSN` is a function that takes the rates and inputs and computes the next time step rates.\n",
    "\n",
    "I use the `tf.scan` function to perform the iterated application of the update function. Useage of `scan` is a bit complex, we can talk through it, or you can read the documentation.\n",
    "\n",
    "Lastly, I generate inputs, just so that we can use the same value for both the GPU and CPU."
   ]
  },
  {
   "cell_type": "code",
   "execution_count": 4,
   "metadata": {},
   "outputs": [
    {
     "name": "stdout",
     "output_type": "stream",
     "text": [
      "(?, 1000, 2000)\n"
     ]
    }
   ],
   "source": [
    "inputs = tf.placeholder(tf.float32,(None,2*N))\n",
    "init_state = 0*inputs\n",
    "\n",
    "def ssnnon(V):\n",
    "    return tf.pow(tf.clip_by_value(V,clip_value_min = 0,clip_value_max = MAX_RATE),n)\n",
    "\n",
    "def get_next_SSN(rate,ssn_in):\n",
    "    return rate + dt*(- rate + k*ssnnon(tf.tensordot(rate,Wvar,axes = [[1],[1]]) + ssn_in))/tau\n",
    "\n",
    "response = [init_state]\n",
    "\n",
    "response = tf.transpose(tf.scan(lambda r,i:get_next_SSN(r,inputs),elems = tf.range(nt),initializer = init_state),[1,0,2])\n",
    "\n",
    "print(response.shape)\n",
    "\n",
    "inp = np.float32(np.random.randn(10,2*N))"
   ]
  },
  {
   "cell_type": "markdown",
   "metadata": {},
   "source": [
    "This cell creates a session (on the GPU) and runs it."
   ]
  },
  {
   "cell_type": "code",
   "execution_count": 5,
   "metadata": {},
   "outputs": [
    {
     "name": "stdout",
     "output_type": "stream",
     "text": [
      "GPU time: 1.0155999660491943 seconds.\n"
     ]
    }
   ],
   "source": [
    "init = tf.global_variables_initializer()\n",
    "sess = tf.Session()\n",
    "sess.run(init)\n",
    "t1 = time.time()\n",
    "R = sess.run(response[:,:,0],{inputs:inp})\n",
    "t2 = time.time()\n",
    "\n",
    "print(\"GPU time: {} seconds.\".format(t2 - t1))\n",
    "sess.close()"
   ]
  },
  {
   "cell_type": "code",
   "execution_count": 6,
   "metadata": {},
   "outputs": [
    {
     "data": {
      "image/png": "[encoded data removed]",
      "text/plain": [
       "<matplotlib.figure.Figure at 0x7f4c5fc2b7f0>"
      ]
     },
     "metadata": {
      "needs_background": "light"
     },
     "output_type": "display_data"
    }
   ],
   "source": [
    "plt.plot(R.transpose())\n",
    "plt.show()"
   ]
  },
  {
   "cell_type": "markdown",
   "metadata": {},
   "source": [
    "This cell creates a sesion using only the CPU and runs it. "
   ]
  },
  {
   "cell_type": "code",
   "execution_count": 7,
   "metadata": {},
   "outputs": [
    {
     "name": "stdout",
     "output_type": "stream",
     "text": [
      "CPU time: 7.385417461395264 seconds.\n"
     ]
    }
   ],
   "source": [
    "init = tf.global_variables_initializer()\n",
    "config = tf.ConfigProto(\n",
    "        device_count = {'GPU': 0}\n",
    "    )\n",
    "sess = tf.Session(config=config)\n",
    "sess.run(init)\n",
    "t1 = time.time()\n",
    "R = sess.run(response[:,:,0],{inputs:inp})\n",
    "t2 = time.time()\n",
    "\n",
    "print(\"CPU time: {} seconds.\".format(t2 - t1))\n",
    "sess.close()"
   ]
  },
  {
   "cell_type": "code",
   "execution_count": 8,
   "metadata": {},
   "outputs": [
    {
     "data": {
      "image/png": "[encoded data removed]",
      "text/plain": [
       "<matplotlib.figure.Figure at 0x7f4c617ef4e0>"
      ]
     },
     "metadata": {
      "needs_background": "light"
     },
     "output_type": "display_data"
    }
   ],
   "source": [
    "plt.plot(R.transpose())\n",
    "plt.show()"
   ]
  },
  {
   "cell_type": "markdown",
   "metadata": {},
   "source": [
    "The GPU was WAAAAY faster. Here are some things for you to try on your own:\n",
    "\n",
    "    - change the number of time steps, size of network, etc. and see how the computation times changes with each of these.\n",
    "    - modify the code so that the input is time-varying.\n",
    "    - modify the code so that the number of time steps can be chosen at runtime.\n",
    "    - change all the SSN parameters into tf variables and update them at runtime."
   ]
  },
  {
   "cell_type": "code",
   "execution_count": null,
   "metadata": {},
   "outputs": [],
   "source": []
  }
 ],
 "metadata": {
  "kernelspec": {
   "display_name": "Python 3",
   "language": "python",
   "name": "python3"
  },
  "language_info": {
   "codemirror_mode": {
    "name": "ipython",
    "version": 3
   },
   "file_extension": ".py",
   "mimetype": "text/x-python",
   "name": "python",
   "nbconvert_exporter": "python",
   "pygments_lexer": "ipython3",
   "version": "3.5.4"
  }
 },
 "nbformat": 4,
 "nbformat_minor": 2
}
